{
  "nbformat": 4,
  "nbformat_minor": 0,
  "metadata": {
    "colab": {
      "name": "ManvithaDoma_Assignment1.ipynb",
      "provenance": [],
      "collapsed_sections": []
    },
    "kernelspec": {
      "name": "python3",
      "display_name": "Python 3"
    }
  },
  "cells": [
    {
      "cell_type": "code",
      "metadata": {
        "colab": {
          "base_uri": "https://localhost:8080/",
          "height": 371
        },
        "id": "Mtez_mlU_ZP2",
        "outputId": "dbdcd59b-0290-49fb-edc5-04654f16c5dc"
      },
      "source": [
        "import random\r\n",
        "import string\r\n",
        "import matplotlib.pyplot as p\r\n",
        "\r\n",
        "print(\"Before Sorting\")\r\n",
        "str = input('Enter the String: ') \r\n",
        "val1 = list(str)\r\n",
        "\r\n",
        "alphabets = []\r\n",
        "digits = []\r\n",
        "specialchar = []\r\n",
        "\r\n",
        "for ch in str:\r\n",
        "    if ch.isalpha():\r\n",
        "        alphabets.append(ch)\r\n",
        "    elif ch.isdigit():\r\n",
        "      digits.append(ch)\r\n",
        "    else:\r\n",
        "      specialchar.append(ch)\r\n",
        "\r\n",
        "a=len(alphabets)\r\n",
        "d=len(digits)\r\n",
        "\r\n",
        "for i in range(a):\r\n",
        "    for j in range(1, a-i):\r\n",
        "        # Swap if current value is greater than previous value\r\n",
        "        if alphabets[j-1] > alphabets[j]:\r\n",
        "            # swapping\r\n",
        "            (alphabets[j-1], alphabets[j]) = (alphabets[j], alphabets[j-1])\r\n",
        "\r\n",
        "for i in range(d):\r\n",
        "    for j in range(1, d-i):\r\n",
        "        # Swap if current value is greater than previous value\r\n",
        "        if digits[j-1] > digits[j]:\r\n",
        "            # swapping\r\n",
        "            (digits[j-1], digits[j]) = (digits[j], digits[j-1])\r\n",
        "\r\n",
        "for i in range(len(specialchar)):\r\n",
        "    for j in range(i + 1, len(specialchar)):\r\n",
        "\r\n",
        "        if specialchar[i] > specialchar[j]:\r\n",
        "          #swapping\r\n",
        "           specialchar[i], specialchar[j] = specialchar[j], specialchar[i]\r\n",
        "\r\n",
        "output=''.join(alphabets+digits+specialchar)\r\n",
        "print(\"After sorting the String is \" + output)\r\n",
        "\r\n",
        "print(\"SCATTER PLOT\")\r\n",
        "\r\n",
        "#Generating a Random String\r\n",
        "def ran_str(size):  \r\n",
        "        generate_str=[];\r\n",
        "        for i in range(size):\r\n",
        "            j=random.randrange(1,30) #Generates a string of length from 1 to 30\r\n",
        "            s=''.join(random.choice(string.ascii_uppercase +string.ascii_lowercase +string.digits+string.punctuation)for n in range(j))\r\n",
        "            generate_str.append(s)\r\n",
        "        return generate_str  \r\n",
        "\r\n",
        "#Generating 500 strings\r\n",
        "l=ran_str(500)\r\n",
        "\r\n",
        "x=[]\r\n",
        "y=[]\r\n",
        "\r\n",
        "for i in range(0,len(l)):\r\n",
        "    x.append(i)\r\n",
        "    y.append(len(l[i]))\r\n",
        "p.xlabel('x') #order of string\r\n",
        "p.ylabel('y') #length of string\r\n",
        "p.scatter(x,y)\r\n",
        "p.show()"
      ],
      "execution_count": 17,
      "outputs": [
        {
          "output_type": "stream",
          "text": [
            "Before Sorting\n",
            "Enter the String: 420196140727489673 679891637638612258 1100087778366101931 1779979416004714189 2880067194370816120 4660046610375530309 7540113804746346429 12200160415121876738 19740274219868223167 31940434634990099905 51680708854858323072 83621143489848422977 135301852344706746049 218922995834555169026 354224848179261915075\n",
            "After sorting the String is 000000000000000000000000000000000001111111111111111111111111111111111111122222222222222222222222222233333333333333333333333334444444444444444444444444444444444555555555555555555666666666666666666666666666667777777777777777777777777777778888888888888888888888888888899999999999999999999999999999              \n",
            "SCATTER PLOT\n"
          ],
          "name": "stdout"
        },
        {
          "output_type": "display_data",
          "data": {
            "image/png": "[encoded data removed]",
            "text/plain": [
              "<Figure size 432x288 with 1 Axes>"
            ]
          },
          "metadata": {
            "tags": [],
            "needs_background": "light"
          }
        }
      ]
    },
    {
      "cell_type": "markdown",
      "metadata": {
        "id": "hOj3RtD0ZytM"
      },
      "source": [
        "**Outline of the program**\r\n",
        "\r\n",
        "I have taken a string which consists of alphabets, digits and special characters as input. String is then divited into digits alphabets and special characters and sorted them accordingly using selection sort. After sorting strings are again joined backed into alphabets,digits and special characters and represented them in scatter plot.\r\n",
        "\r\n",
        "**Sorting rule**\r\n",
        "I have used FOR loop to perform the sorting technique. when previous value is greater than the present value, used swaping technique to swap those values. Selection sort technique was used and sorting was performed in ascending order, then joined alphabtes,digits and special characters into a string again.\r\n",
        "\r\n",
        "I have defined a function, where it takes input string and generates random strings with alphabets,digits and special characters with length from 1 to 30.Two arguments are required for scatterplot, I have used X for order of string and Y for length of string and values are plotted in scatterplot\r\n",
        "\r\n",
        "**Test Cases for the above program**\r\n",
        "\r\n",
        "1) ![](https://drive.google.com/uc?export=view&id=1i_8AlXlczd1zTkggevXD_d709dKC7S1J)\r\n",
        "\r\n",
        "2)![](https://drive.google.com/uc?export=view&id=1Z7VhgeQX_U5g6msAXY955VoYG-NTjXCX)\r\n",
        "\r\n",
        "3)![](https://drive.google.com/uc?export=view&id=1BnmZr-uOJarn0KOecnhufwm7jh7Rkfhk)\r\n",
        "\r\n",
        "4)![](https://drive.google.com/uc?export=view&id=15Q-Ng9eQuLmSWDa01BCa2PKYoBRbgk2U)\r\n",
        "\r\n",
        "5)![](https://drive.google.com/uc?export=view&id=1SrqB3fMPVJujEfRcuFIQ1eC0p97taKCR)\r\n"
      ]
    }
  ]
}