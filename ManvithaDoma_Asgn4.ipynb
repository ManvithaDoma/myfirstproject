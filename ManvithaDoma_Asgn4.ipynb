{
  "nbformat": 4,
  "nbformat_minor": 0,
  "metadata": {
    "kernelspec": {
      "display_name": "Python 3",
      "language": "python",
      "name": "python3"
    },
    "language_info": {
      "codemirror_mode": {
        "name": "ipython",
        "version": 3
      },
      "file_extension": ".py",
      "mimetype": "text/x-python",
      "name": "python",
      "nbconvert_exporter": "python",
      "pygments_lexer": "ipython3",
      "version": "3.7.0"
    },
    "colab": {
      "name": "ManvithaDoma_Asgn4.ipynb",
      "provenance": [],
      "collapsed_sections": []
    }
  },
  "cells": [
    {
      "cell_type": "markdown",
      "metadata": {
        "id": "9wy-rwj3pXRi"
      },
      "source": [
        "**Q1) Median Income of Male and Female Employes**"
      ]
    },
    {
      "cell_type": "code",
      "metadata": {
        "id": "bjCiXjaeiK_j",
        "colab": {
          "resources": {
            "http://localhost:8080/nbextensions/google.colab/files.js": {
              "data": "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",
              "ok": true,
              "headers": [
                [
                  "content-type",
                  "application/javascript"
                ]
              ],
              "status": 200,
              "status_text": ""
            }
          },
          "base_uri": "https://localhost:8080/",
          "height": 127
        },
        "outputId": "750c0f75-bb45-464d-cf26-fb4aac498427"
      },
      "source": [
        "import pandas as pd1\n",
        "import numpy as np1\n",
        "\n",
        "from statistics import mean \n",
        "from google.colab import files\n",
        "\n",
        "uploaded = files.upload()\n",
        "\n",
        "import io\n",
        "bring = pd1.read_csv(io.BytesIO(uploaded['multipleChoiceResponses.csv']))"
      ],
      "execution_count": 15,
      "outputs": [
        {
          "output_type": "display_data",
          "data": {
            "text/html": [
              "\n",
              "     <input type=\"file\" id=\"files-1e8b8149-98a7-4929-a93f-50128b65cf91\" name=\"files[]\" multiple disabled\n",
              "        style=\"border:none\" />\n",
              "     <output id=\"result-1e8b8149-98a7-4929-a93f-50128b65cf91\">\n",
              "      Upload widget is only available when the cell has been executed in the\n",
              "      current browser session. Please rerun this cell to enable.\n",
              "      </output>\n",
              "      <script src=\"/nbextensions/google.colab/files.js\"></script> "
            ],
            "text/plain": [
              "<IPython.core.display.HTML object>"
            ]
          },
          "metadata": {
            "tags": []
          }
        },
        {
          "output_type": "stream",
          "text": [
            "Saving multipleChoiceResponses.csv to multipleChoiceResponses (2).csv\n"
          ],
          "name": "stdout"
        },
        {
          "output_type": "stream",
          "text": [
            "/usr/local/lib/python3.7/dist-packages/IPython/core/interactiveshell.py:2718: DtypeWarning: Columns (0,2,8,10,21,23,24,25,26,27,28,44,56,64,83,85,87,107,109,123,125,150,157,172,174,194,210,218,219,223,246,249,262,264,276,277,278,279,280,281,282,283,284,285,286,287,288,289,290,304,306,325,326,329,341,368,371,384,385,389,390,391,393,394) have mixed types.Specify dtype option on import or set low_memory=False.\n",
            "  interactivity=interactivity, compiler=compiler, result=result)\n"
          ],
          "name": "stderr"
        }
      ]
    },
    {
      "cell_type": "code",
      "metadata": {
        "id": "hDdhZHXtxkW1"
      },
      "source": [
        "w=pd1.notnull(bring[\"Q9\"]) #Trying To Remove any values which are null\n",
        "c=bring[w]\n",
        "\n"
      ],
      "execution_count": 3,
      "outputs": []
    },
    {
      "cell_type": "code",
      "metadata": {
        "id": "qpFtpXKZzT9P",
        "colab": {
          "base_uri": "https://localhost:8080/"
        },
        "outputId": "509891d3-93cd-4514-f0e9-8c9d53c23edc"
      },
      "source": [
        "# DATA CLEANING (REMOVING THE NULL VALUES)\n",
        "cleaning = c[(c.Q1 != 'Prefer not to say') & (c.Q1 != 'Prefer to self-describe') \n",
        "& (c.Q9 != 'I do not wish to disclose my approximate yearly compensation')]# Cleaning the obsolete Data\n",
        "clean_data1=cleaning[['Q1','Q9']][1:]\n",
        "print(clean_data1)\n"
      ],
      "execution_count": 4,
      "outputs": [
        {
          "output_type": "stream",
          "text": [
            "           Q1           Q9\n",
            "2        Male    10-20,000\n",
            "3      Female     0-10,000\n",
            "5        Male     0-10,000\n",
            "7        Male    10-20,000\n",
            "8        Male     0-10,000\n",
            "...       ...          ...\n",
            "23844    Male   90-100,000\n",
            "23845    Male     0-10,000\n",
            "23854    Male    10-20,000\n",
            "23855    Male  250-300,000\n",
            "23857    Male    10-20,000\n",
            "\n",
            "[15246 rows x 2 columns]\n"
          ],
          "name": "stdout"
        }
      ]
    },
    {
      "cell_type": "code",
      "metadata": {
        "id": "cNCMi2Y1nIvI"
      },
      "source": [
        "n=clean_data.groupby('Q9') #performing groupby for salary column\n"
      ],
      "execution_count": 5,
      "outputs": []
    },
    {
      "cell_type": "code",
      "metadata": {
        "id": "5MFJSnuuxCHt"
      },
      "source": [
        "# GROUPING DATA BASED ON SALARIES\n",
        "med1=n.get_group('0-10,000')\n",
        "med2=n.get_group('10-20,000')\n",
        "med3=n.get_group('20-30,000')\n",
        "med4=n.get_group('30-40,000')\n",
        "med5=n.get_group('40-50,000')\n",
        "med6=n.get_group('50-60,000')\n",
        "med7=n.get_group('60-70,000')\n",
        "med8=n.get_group('70-80,000')\n",
        "med9=n.get_group('80-90,000')\n",
        "med10=n.get_group('90-100,000')\n",
        "med11=n.get_group('100-125,000')\n",
        "med12=n.get_group('125-150,000')\n",
        "med13=n.get_group('150-200,000')\n",
        "med14=n.get_group('200-250,000')\n",
        "med15=n.get_group('250-300,000')\n",
        "med16=n.get_group('300-400,000')\n",
        "med17=n.get_group('400-500,000')\n",
        "med18=n.get_group('500,000+')\n",
        "\n",
        "\n"
      ],
      "execution_count": 6,
      "outputs": []
    },
    {
      "cell_type": "code",
      "metadata": {
        "id": "2DuA-fl4z2AY",
        "colab": {
          "base_uri": "https://localhost:8080/"
        },
        "outputId": "45ac75d6-18c5-4df5-c7ee-eb1a5285774a"
      },
      "source": [
        "full=pd1.concat([m1,m2,m3,m4,m5,m6,m7,m8,m9,m10,m11,m12,m13,m14,m15,m16,m17,m18], axis=0) ##Sorted data in Ascending Order to calculate Median \n",
        "print(full)\n",
        "full1=full.groupby('Q1')['Q9']\n",
        "\n",
        "# SEPERATING MALES & FEMALES FROM THE SALARY GROUP\n",
        "males=full1.get_group('Male') \n",
        "females=full1.get_group('Female')\n",
        "\n",
        "total = full.groupby('Q9')\n",
        "print(total)"
      ],
      "execution_count": 7,
      "outputs": [
        {
          "output_type": "stream",
          "text": [
            "           Q1        Q9\n",
            "3      Female  0-10,000\n",
            "5        Male  0-10,000\n",
            "8        Male  0-10,000\n",
            "18       Male  0-10,000\n",
            "24     Female  0-10,000\n",
            "...       ...       ...\n",
            "21122    Male  500,000+\n",
            "22264    Male  500,000+\n",
            "22591  Female  500,000+\n",
            "23098    Male  500,000+\n",
            "23627  Female  500,000+\n",
            "\n",
            "[15246 rows x 2 columns]\n",
            "<pandas.core.groupby.generic.DataFrameGroupBy object at 0x7f3a4fb6d290>\n"
          ],
          "name": "stdout"
        }
      ]
    },
    {
      "cell_type": "code",
      "metadata": {
        "id": "QJg4pkEO0amZ",
        "colab": {
          "base_uri": "https://localhost:8080/"
        },
        "outputId": "a5706e6b-0db3-40d6-b0f6-c31bac9e1dc9"
      },
      "source": [
        "index_reset_male=males.reset_index() # To Treat index as column\n",
        "index_reset_female=females.reset_index()\n",
        "final_value_male=index_reset_male['Q9']\n",
        "male_median=int((len(final_value_male)+1)/2)#Median Formula(Male)   (Index value of Median is stored in male_median)\n",
        "final_male_median=final_value_male.iloc[male_median]  #to get the value of median from \"male_median\" column\n",
        "print(f\"Median Income of Male population is:{final_male_median}\\n\")\n",
        "final_value_female=index_reset_female['Q9']\n",
        "female_median=int(len(final_value_female)/2)#Median Formula(Female)\n",
        "final_female_median=final_value_female.iloc[female_median]\n",
        "print(f\"Median Income of Female population is:{final_female_median}\")  "
      ],
      "execution_count": 8,
      "outputs": [
        {
          "output_type": "stream",
          "text": [
            "Median Income of Male population is:30-40,000\n",
            "\n",
            "Median Income of Female population is:20-30,000\n"
          ],
          "name": "stdout"
        }
      ]
    },
    {
      "cell_type": "markdown",
      "metadata": {
        "id": "87XaFZAkpnAt"
      },
      "source": [
        "**Q2) OVERLAID HISTOGRAM OF SALARIES OF MALES AND FEMALE POPULATION**"
      ]
    },
    {
      "cell_type": "code",
      "metadata": {
        "id": "PUjJuryV-2lW",
        "colab": {
          "base_uri": "https://localhost:8080/",
          "height": 623
        },
        "outputId": "1d84c35f-7e45-4699-8e5d-22ce8569f294"
      },
      "source": [
        "from matplotlib import pyplot\n",
        "\n",
        "histogram = pyplot.figure(figsize=(15,10))\n",
        "\n",
        "pyplot.hist(males, bins=18,alpha=0.3, color='brown', label='Male', edgecolor='black') #plotted Male Incomes\n",
        "pyplot.hist(females, bins=18, alpha=0.3, color='red',edgecolor='black', label='Female') #plotted Female Incomes\n",
        "pyplot.legend(loc='upper right') # TO DISTINGUISH THE COLORS OF OVERLAID GRAPH\n",
        "pyplot.xlabel('ESTIMATED SALARY')\n",
        "pyplot.ylabel('POPULATION COUNT')\n",
        "\n",
        "\n",
        "\n",
        "\n",
        "\n"
      ],
      "execution_count": 16,
      "outputs": [
        {
          "output_type": "execute_result",
          "data": {
            "text/plain": [
              "Text(0, 0.5, 'POPULATION COUNT')"
            ]
          },
          "metadata": {
            "tags": []
          },
          "execution_count": 16
        },
        {
          "output_type": "display_data",
          "data": {
            "image/png": "[encoded data removed]",
            "text/plain": [
              "<Figure size 1080x720 with 1 Axes>"
            ]
          },
          "metadata": {
            "tags": [],
            "needs_background": "light"
          }
        }
      ]
    },
    {
      "cell_type": "markdown",
      "metadata": {
        "id": "sMlDR8m34F0a"
      },
      "source": [
        "**Q3) SAMPLING MALE AND FEMALE SALARIES FROM DATASET**"
      ]
    },
    {
      "cell_type": "code",
      "metadata": {
        "id": "d1nwKH1b8ZTB",
        "colab": {
          "base_uri": "https://localhost:8080/"
        },
        "outputId": "8f2b3615-4555-463e-fdad-a2403d56e4c5"
      },
      "source": [
        "mi=clean_data[clean_data['Q1']=='Male'].index  # Getting Male indexes from the data\n",
        "ms=np1.random.choice(mi,250,replace=False) #takes any 250 male values randomly from data\n",
        "fmale=clean_data.loc[ms] #gets values of the male indexes\n",
        "fi=clean_data[clean_data['Q1']=='Female'].index   # Getting Female indexes from the data\n",
        "fs=np1.random.choice(fi,250,replace=False) #takes any 250 female values randomly from data\n",
        "ffemale=clean_data.loc[fs]  #gets values of the female indexes\n",
        "print(fmale)\n",
        "print(ffemale)\n"
      ],
      "execution_count": 10,
      "outputs": [
        {
          "output_type": "stream",
          "text": [
            "         Q1           Q9\n",
            "2255   Male  125-150,000\n",
            "8023   Male     0-10,000\n",
            "6614   Male    10-20,000\n",
            "6953   Male  100-125,000\n",
            "13845  Male    10-20,000\n",
            "...     ...          ...\n",
            "7061   Male  125-150,000\n",
            "17792  Male     0-10,000\n",
            "5320   Male    60-70,000\n",
            "3899   Male    20-30,000\n",
            "21945  Male     0-10,000\n",
            "\n",
            "[250 rows x 2 columns]\n",
            "           Q1         Q9\n",
            "19637  Female  10-20,000\n",
            "2737   Female  80-90,000\n",
            "12019  Female  40-50,000\n",
            "22135  Female   0-10,000\n",
            "7029   Female  70-80,000\n",
            "...       ...        ...\n",
            "19032  Female   0-10,000\n",
            "5995   Female   0-10,000\n",
            "13213  Female  80-90,000\n",
            "2366   Female  80-90,000\n",
            "9144   Female   0-10,000\n",
            "\n",
            "[250 rows x 2 columns]\n"
          ],
          "name": "stdout"
        }
      ]
    },
    {
      "cell_type": "markdown",
      "metadata": {
        "id": "fNoXd8OMLekS"
      },
      "source": [
        "**Q4) INCOME HISTOGRAM FOR ABOVE SAMPLING AND MEDIAN INCOME OF MALE AND FEMALE POPULATION**"
      ]
    },
    {
      "cell_type": "code",
      "metadata": {
        "id": "B85gOeRILoey",
        "colab": {
          "base_uri": "https://localhost:8080/",
          "height": 609
        },
        "outputId": "6a183ebc-26f8-42cf-95d8-34700cd80974"
      },
      "source": [
        "together=pd1.concat([fmale,ffemale],axis=0)\n",
        "pyplot.figure(figsize=(18,10))\n",
        "pyplot.hist(together['Q9'], bins=18,alpha=0.3, color='Pink', label='Male', edgecolor='black')\n",
        "pyplot.scatter(final_male_median, 20, color='yellow')\n",
        "pyplot.scatter(final_female_median, 20, color='red')\n"
      ],
      "execution_count": 26,
      "outputs": [
        {
          "output_type": "execute_result",
          "data": {
            "text/plain": [
              "<matplotlib.collections.PathCollection at 0x7f3a4d58bd10>"
            ]
          },
          "metadata": {
            "tags": []
          },
          "execution_count": 26
        },
        {
          "output_type": "display_data",
          "data": {
            "image/png": "[encoded data removed]",
            "text/plain": [
              "<Figure size 1296x720 with 1 Axes>"
            ]
          },
          "metadata": {
            "tags": [],
            "needs_background": "light"
          }
        }
      ]
    },
    {
      "cell_type": "markdown",
      "metadata": {
        "id": "hdv2bzyir7am"
      },
      "source": [
        "**Q5) HISTOGRAM OF THE MEDIAN OF THE SAMPLE AND RED - DOT TO SHOW MEDIAN OF POPULATION**"
      ]
    },
    {
      "cell_type": "code",
      "metadata": {
        "id": "4rZ73bKpsDvF",
        "colab": {
          "base_uri": "https://localhost:8080/",
          "height": 609
        },
        "outputId": "ddd3a24b-56c1-4212-f8ac-c6a2d9fe6b42"
      },
      "source": [
        "\n",
        "from matplotlib import pyplot\n",
        "####DATA CLEANING IS ALREADY DONE ABOVE####\n",
        "\n",
        "values = {'0-10,000': 5000, '10-20,000': 15000, '20-30,000': 25000, '30-40,000': 35000,'40-50,000': 45000, '50-60,000': 55000, '60-70,000': 65000, '70-80,000': 75000,'80-90,000': 85000, '90-100,000': 95000, '100-125,000': 112500,\n",
        "       '125-150,000': 137500, '150-200,000': 175000, '200-250,000': 225000,\n",
        "       '250-300,000': 275000, '300-400,000': 350000, '400-500,000': 450000,\n",
        "       '500,000+':500000,'500,000':500000}\n",
        "clean_data['salary'] = clean_data['Q9'].apply(lambda value: values[value]) # Average calculation for approximation Salaries\n",
        "\n",
        "arrays = []\n",
        "for i in range(500):\n",
        "    \n",
        "    mi=clean_data[clean_data['Q1']=='Male'].index \n",
        "    ms=np1.random.choice(mi,250,replace=False)\n",
        "    fmale=clean_data.loc[ms]\n",
        "    Male_data=fmale['salary'].median() # Median for male \n",
        "    fi=clean_data[clean_data['Q1']=='Female'].index\n",
        "    fs=np1.random.choice(fi,250,replace=False)\n",
        "    ffemale=clean_data.loc[fs]\n",
        "    Female_data=ffemale['salary'].median() # Median for female\n",
        "    arrays.append(Male_data-Female_data)\n",
        "mf=clean_data.groupby('Q1')\n",
        "mm=mf.get_group('Male')['salary'].median()\n",
        "fm=mf.get_group('Female')['salary'].median()\n",
        "Median_diff_Male_Female=male_median-female_median # Difference of the Median Male and Median Female Salary\n",
        "histogram = pyplot.figure(figsize=(15,10))\n",
        "pyplot.hist(arrays,bins=20,alpha=1.0,edgecolor='black',color='yellow', linewidth=1.2,label='Median Salary Differences') # PLot histogram for 500 samples of Median salries of Male and Female \n",
        "pyplot.scatter(Median_diff_Male_Female,0,color='red',label='Median') # Plot dot for Median differnce of male and female\n",
        "pyplot.legend()\n",
        "print(f\"The Median Salary differences of Males and females is {Median_diff_Male_Female}\")"
      ],
      "execution_count": 28,
      "outputs": [
        {
          "output_type": "stream",
          "text": [
            "The Median Salary differences of Males and females is 5243\n"
          ],
          "name": "stdout"
        },
        {
          "output_type": "display_data",
          "data": {
            "image/png": "[encoded data removed]",
            "text/plain": [
              "<Figure size 1080x720 with 1 Axes>"
            ]
          },
          "metadata": {
            "tags": [],
            "needs_background": "light"
          }
        }
      ]
    },
    {
      "cell_type": "markdown",
      "metadata": {
        "id": "NkqjfPT0uo3e"
      },
      "source": [
        "**Q6) HISTOGRAM OF THE MEAN OF THE BOOTSTRAP VALUES**"
      ]
    },
    {
      "cell_type": "code",
      "metadata": {
        "id": "cKcufeaNun3X",
        "colab": {
          "base_uri": "https://localhost:8080/",
          "height": 627
        },
        "outputId": "aa68bf46-f9f0-4935-aa85-0b18778c0199"
      },
      "source": [
        "arrays = []\n",
        "sample_data=clean_data.sample(5000,replace=False) #To Generate 5000 resamples randomly from Dataset without replacement\n",
        "sample_data=sample_data[['Q1','salary']]\n",
        "for temp in range(500):\n",
        "    bootstrap_sample=sample_data.sample(5000,replace=True) # Random samples of 5000 with replacment\n",
        "    bootstrap_sample_groupby=bootstrap_sample.groupby('Q1')\n",
        "    bootrap_male_mean=bootstrap_sample_groupby.get_group('Male')['salary'].mean() #Average Male Salary\n",
        "    bootrap_female_mean=bootstrap_sample_groupby.get_group('Female')['salary'].mean() #Average Female Salary\n",
        "    arrays.append(bootrap_male_mean-bootrap_female_mean)# Subtracting Male and Female Average Salary\n",
        "samples=pd1.DataFrame(arrays,columns=['Bootstrap_values']) #  Random Bootstrap Samples from array to samples\n",
        "firstextreme=samples.Bootstrap_values.quantile(0.050) # 5 % data in normal distribution\n",
        "lastextreme=samples.Bootstrap_values.quantile(0.950) #95 % of data in normal distribution\n",
        "print(f\"The Mean of original data is between {firstextreme} and {lastextreme}\")\n",
        "\n",
        "male_avg=mf.get_group('Male')['salary'].mean() # Male average of original population\n",
        "female_avg=mf.get_group('Female')['salary'].mean() #Female average of original population\n",
        "Avg_diff_Male_Female=male_avg-female_avg # Difference of Male average and Female average\n",
        "histogram = pyplot.figure(figsize=(15,10))\n",
        "pyplot.hist(arrays,bins=20,alpha=0.5,color='brown',edgecolor='black', linewidth=1.2) # Histogram for Bootstarp samples\n",
        "pyplot.hlines((0,0),firstextreme,lastextreme, colors='blue', linestyles='solid',linewidth=5,label='Approximate Data') # Line that shows the approxiamte data around the mean\n",
        "pyplot.scatter(Avg_diff_Male_Female,0,color='yellow',s=70,label='Avg of Original Data') #To plot Dot of original mean\n",
        "pyplot.legend()"
      ],
      "execution_count": 30,
      "outputs": [
        {
          "output_type": "stream",
          "text": [
            "The Mean of original data is between 2618.931802116014 and 9986.049629575185\n"
          ],
          "name": "stdout"
        },
        {
          "output_type": "execute_result",
          "data": {
            "text/plain": [
              "<matplotlib.legend.Legend at 0x7f3a4ceecb50>"
            ]
          },
          "metadata": {
            "tags": []
          },
          "execution_count": 30
        },
        {
          "output_type": "display_data",
          "data": {
            "image/png": "[encoded data removed]",
            "text/plain": [
              "<Figure size 1080x720 with 1 Axes>"
            ]
          },
          "metadata": {
            "tags": [],
            "needs_background": "light"
          }
        }
      ]
    },
    {
      "cell_type": "markdown",
      "metadata": {
        "id": "ampceIOEjlHb"
      },
      "source": [
        "**Q7)  A-B Testing to find P-value** "
      ]
    },
    {
      "cell_type": "code",
      "metadata": {
        "id": "XdfTyc5OjkP0",
        "colab": {
          "base_uri": "https://localhost:8080/",
          "height": 609
        },
        "outputId": "9b88e4e3-082f-4fdc-f56a-8bc954681a90"
      },
      "source": [
        "i_md = []\n",
        "p1=clean_data[['Q1','salary']]\n",
        "for i in range(1000):\n",
        "  i_d=p1.sample(len(p1),replace=False)['Q1'].reset_index()['Q1']\n",
        "  data={'Q1data':i_d}\n",
        "  now = pd1.DataFrame(data)\n",
        "  a1=p1['Q1'].reset_index()['Q1']\n",
        "  a2=p1['salary'].reset_index()['salary']\n",
        "  now['salary']=a2\n",
        "  now['now_gender']=a1\n",
        "  i_g=now.groupby('Q1data')\n",
        "  i_m=i_g.get_group('Male')['salary'].median() #Male Median value for shuffles data\n",
        "  i_f=i_g.get_group('Female')['salary'].median()\n",
        "  i_md.append(i_m-i_f) #Difference of Male and Female resampled median\n",
        "mf=clean_data.groupby('Q1')\n",
        "mm=mf.get_group('Male')['salary'].median() #Male median of original data\n",
        "fm=mf.get_group('Female')['salary'].mean() \n",
        "mfmd=mm-fm #Difference of male median and female median\n",
        "histogram = pyplot.figure(figsize=(15,10))\n",
        "pyplot.hist(i_md,bins=20,alpha=0.5,color='orange',edgecolor='black', linewidth=1.2)\n",
        "i_md=np1.array(i_md)\n",
        "P1=np1.count_nonzero( i_md <= mfmd ) / i #Storing P value\n",
        "print(f\"P value is {P1}\")\n",
        "\n"
      ],
      "execution_count": 25,
      "outputs": [
        {
          "output_type": "stream",
          "text": [
            "P value is 0.4134134134134134\n"
          ],
          "name": "stdout"
        },
        {
          "output_type": "display_data",
          "data": {
            "image/png": "[encoded data removed]",
            "text/plain": [
              "<Figure size 1080x720 with 1 Axes>"
            ]
          },
          "metadata": {
            "tags": [],
            "needs_background": "light"
          }
        }
      ]
    }
  ]
}